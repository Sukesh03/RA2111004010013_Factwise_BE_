{
 "cells": [
  {
   "cell_type": "code",
   "execution_count": 4,
   "id": "6aa40553",
   "metadata": {},
   "outputs": [
    {
     "name": "stdout",
     "output_type": "stream",
     "text": [
      "55\n"
     ]
    }
   ],
   "source": [
    "#2\n",
    "cardPoints = [9,7,7,9,7,7,9]\n",
    "k = 7\n",
    "s=0\n",
    "for i in range(1,k+1):\n",
    "    s+=cardPoints[-i]\n",
    "print(s)"
   ]
  },
  {
   "cell_type": "code",
   "execution_count": 13,
   "id": "b180e4ec",
   "metadata": {},
   "outputs": [
    {
     "ename": "IndexError",
     "evalue": "list index out of range",
     "output_type": "error",
     "traceback": [
      "\u001b[1;31m---------------------------------------------------------------------------\u001b[0m",
      "\u001b[1;31mIndexError\u001b[0m                                Traceback (most recent call last)",
      "Cell \u001b[1;32mIn[13], line 27\u001b[0m\n\u001b[0;32m     24\u001b[0m         s\u001b[38;5;241m+\u001b[39m\u001b[38;5;241m=\u001b[39m\u001b[38;5;28mlen\u001b[39m(word)\n\u001b[0;32m     25\u001b[0m     \u001b[38;5;28;01mreturn\u001b[39;00m s\n\u001b[1;32m---> 27\u001b[0m countletters()\n",
      "Cell \u001b[1;32mIn[13], line 23\u001b[0m, in \u001b[0;36mcountletters\u001b[1;34m()\u001b[0m\n\u001b[0;32m     21\u001b[0m s\u001b[38;5;241m=\u001b[39m\u001b[38;5;241m0\u001b[39m\n\u001b[0;32m     22\u001b[0m \u001b[38;5;28;01mfor\u001b[39;00m i \u001b[38;5;129;01min\u001b[39;00m \u001b[38;5;28mrange\u001b[39m(\u001b[38;5;241m1000\u001b[39m):\n\u001b[1;32m---> 23\u001b[0m     word\u001b[38;5;241m=\u001b[39mnumbertoword(i)\n\u001b[0;32m     24\u001b[0m     s\u001b[38;5;241m+\u001b[39m\u001b[38;5;241m=\u001b[39m\u001b[38;5;28mlen\u001b[39m(word)\n\u001b[0;32m     25\u001b[0m \u001b[38;5;28;01mreturn\u001b[39;00m s\n",
      "Cell \u001b[1;32mIn[13], line 8\u001b[0m, in \u001b[0;36mnumbertoword\u001b[1;34m(n)\u001b[0m\n\u001b[0;32m      6\u001b[0m tens\u001b[38;5;241m=\u001b[39m[\u001b[38;5;28;01mNone\u001b[39;00m,\u001b[38;5;28;01mNone\u001b[39;00m,\u001b[38;5;124m\"\u001b[39m\u001b[38;5;124mTwenty\u001b[39m\u001b[38;5;124m\"\u001b[39m,\u001b[38;5;124m\"\u001b[39m\u001b[38;5;124mThirty\u001b[39m\u001b[38;5;124m\"\u001b[39m,\u001b[38;5;124m\"\u001b[39m\u001b[38;5;124mForty\u001b[39m\u001b[38;5;124m\"\u001b[39m,\u001b[38;5;124m\"\u001b[39m\u001b[38;5;124mFifty\u001b[39m\u001b[38;5;124m\"\u001b[39m,\u001b[38;5;124m\"\u001b[39m\u001b[38;5;124mSixty\u001b[39m\u001b[38;5;124m\"\u001b[39m,\u001b[38;5;124m\"\u001b[39m\u001b[38;5;124mSeventy\u001b[39m\u001b[38;5;124m\"\u001b[39m,\u001b[38;5;124m\"\u001b[39m\u001b[38;5;124mEighty\u001b[39m\u001b[38;5;124m\"\u001b[39m,\u001b[38;5;124m\"\u001b[39m\u001b[38;5;124mNinety\u001b[39m\u001b[38;5;124m\"\u001b[39m]\n\u001b[0;32m      7\u001b[0m \u001b[38;5;28;01mif\u001b[39;00m n\u001b[38;5;241m>\u001b[39m\u001b[38;5;241m=\u001b[39m\u001b[38;5;241m0\u001b[39m \u001b[38;5;129;01mand\u001b[39;00m n\u001b[38;5;241m<\u001b[39m\u001b[38;5;241m20\u001b[39m:\n\u001b[1;32m----> 8\u001b[0m     \u001b[38;5;28;01mreturn\u001b[39;00m units[n]\n\u001b[0;32m      9\u001b[0m \u001b[38;5;28;01melif\u001b[39;00m n\u001b[38;5;241m>\u001b[39m\u001b[38;5;241m=\u001b[39m\u001b[38;5;241m20\u001b[39m \u001b[38;5;129;01mand\u001b[39;00m n\u001b[38;5;241m<\u001b[39m\u001b[38;5;241m91\u001b[39m \u001b[38;5;129;01mand\u001b[39;00m n\u001b[38;5;241m%\u001b[39m\u001b[38;5;241m10\u001b[39m\u001b[38;5;241m==\u001b[39m\u001b[38;5;241m0\u001b[39m:\n\u001b[0;32m     10\u001b[0m     \u001b[38;5;28;01mreturn\u001b[39;00m tens[n\u001b[38;5;241m/\u001b[39m\u001b[38;5;241m/\u001b[39m\u001b[38;5;241m10\u001b[39m]\n",
      "\u001b[1;31mIndexError\u001b[0m: list index out of range"
     ]
    }
   ],
   "source": [
    "#1\n",
    "def numbertoword(n):\n",
    "    \n",
    "    units=[\"zero\",\"one\",\"two\",\"three\",\"four\",\"five\",\"six\",\"seven\",\"Eight\",\"Nine\",\"Ten\",\"Eleven\",\"Twelve\",\"Thirteen\",\" Fourteen\",\"Fifteen\"\n",
    "          \"Sixteen\",\"Seventeen\",\"Eighteen\",\"Nineteen\"]\n",
    "    tens=[None,None,\"Twenty\",\"Thirty\",\"Forty\",\"Fifty\",\"Sixty\",\"Seventy\",\"Eighty\",\"Ninety\"]\n",
    "    if n>=0 and n<20:\n",
    "        return units[n]\n",
    "    elif n>=20 and n<91 and n%10==0:\n",
    "        return tens[n//10]\n",
    "    elif n>20 and n<100:\n",
    "        return tens[n//10]+ones[n%10]\n",
    "    elif n>99 and n<=900 and n%100==0:\n",
    "        return ones[n//100]+' hundred'\n",
    "    elif n>100 and n<100:\n",
    "        return ones[n//100]+' hundred and '+ numbertoword(n%100)\n",
    "    elif n==1000:\n",
    "        return 'one thousand'\n",
    "\n",
    "def countletters():\n",
    "    s=0\n",
    "    for i in range(1000):\n",
    "        word=numbertoword(i)\n",
    "        s+=len(word)\n",
    "    return s\n",
    "\n",
    "countletters()"
   ]
  },
  {
   "cell_type": "code",
   "execution_count": null,
   "id": "4e427b54",
   "metadata": {},
   "outputs": [],
   "source": []
  }
 ],
 "metadata": {
  "kernelspec": {
   "display_name": "Python 3 (ipykernel)",
   "language": "python",
   "name": "python3"
  },
  "language_info": {
   "codemirror_mode": {
    "name": "ipython",
    "version": 3
   },
   "file_extension": ".py",
   "mimetype": "text/x-python",
   "name": "python",
   "nbconvert_exporter": "python",
   "pygments_lexer": "ipython3",
   "version": "3.11.3"
  }
 },
 "nbformat": 4,
 "nbformat_minor": 5
}
